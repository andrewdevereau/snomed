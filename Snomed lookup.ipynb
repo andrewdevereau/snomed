{
 "cells": [
  {
   "cell_type": "code",
   "execution_count": 53,
   "metadata": {
    "collapsed": true
   },
   "outputs": [],
   "source": [
    "from urllib.request import urlopen\n",
    "from urllib.parse import quote\n",
    "import json"
   ]
  },
  {
   "cell_type": "code",
   "execution_count": 54,
   "metadata": {
    "collapsed": true
   },
   "outputs": [],
   "source": [
    "baseUrl = 'http://browser.ihtsdotools.org/api/snomed/'\n",
    "edition = 'en-edition'\n",
    "version = 'v20160131'"
   ]
  },
  {
   "cell_type": "code",
   "execution_count": 55,
   "metadata": {
    "collapsed": true
   },
   "outputs": [],
   "source": [
    "def getDescriptionById(id):\n",
    "    url = baseUrl + edition + '/' + version + '/descriptions/' + id\n",
    "    response = urlopen(url).read()\n",
    "    data = json.loads(response.decode('utf-8'))\n",
    "\n",
    "    print (data['matches'][0]['term'])"
   ]
  },
  {
   "cell_type": "code",
   "execution_count": 154,
   "metadata": {
    "collapsed": false
   },
   "outputs": [],
   "source": [
    "def getConceptById(id):   #gets the concept detail for a SnCT id number.\n",
    "    url = baseUrl + edition + '/' + version + '/concepts/' + id\n",
    "    response = urlopen(url).read().decode('utf-8')\n",
    "    if response[0:17] == 'Concept not found':\n",
    "        print(response)\n",
    "        return\n",
    "    else:\n",
    "        data = json.loads(response)\n",
    "    print (data['fsn'], data['semtag'])  #this is the full name plus semantic tag\n",
    "    for item in data['relationships']:   #this holds relationship data for the concept\n",
    "        print('\\t' + item['type']['defaultTerm'] + '\\t' + item['target']['defaultTerm'])  #this gives the relationship type and value\n",
    "        \n"
   ]
  },
  {
   "cell_type": "code",
   "execution_count": 57,
   "metadata": {
    "collapsed": true
   },
   "outputs": [],
   "source": [
    "def getParents(id, form):\n",
    "    url = baseUrl + edition + '/' + version + '/concepts/' + id + '/parents?form=' + form\n",
    "    response = urlopen(url).read()    \n",
    "    data = json.loads(response.decode('utf-8'))\n",
    "    \n",
    "    print(data)"
   ]
  },
  {
   "cell_type": "code",
   "execution_count": 72,
   "metadata": {
    "collapsed": true
   },
   "outputs": [],
   "source": [
    "def search(query):\n",
    "    url = baseUrl + edition + '/' + version + '/descriptions/?query=' + query\n",
    "    response = urlopen(url).read()    \n",
    "    data = json.loads(response.decode('utf-8'))\n",
    "    \n",
    "    print(data)"
   ]
  },
  {
   "cell_type": "code",
   "execution_count": 157,
   "metadata": {
    "collapsed": false,
    "scrolled": false
   },
   "outputs": [
    {
     "name": "stdout",
     "output_type": "stream",
     "text": [
      "Malignant tumor of breast (disorder) disorder\n",
      "\tIs a (attribute)\tNeoplasm of breast (disorder)\n",
      "\tIs a (attribute)\tDisorder: Primary malignant neoplasm (disorder)\n",
      "\tPathological process (qualifier value)\tNeoplastic process (qualifier value)\n",
      "\tFinding site (attribute)\tBreast structure (body structure)\n",
      "\tAssociated morphology (attribute)\tMalignant neoplasm, primary (morphologic abnormality)\n",
      "\tPathological process (qualifier value)\tMalignant neoplastic process (qualifier value)\n",
      "\tIs a (attribute)\tMalignant neoplasm of thorax (disorder)\n",
      "\tAssociated morphology (attribute)\tMalignant neoplasm of primary, secondary, or uncertain origin (morphologic abnormality)\n",
      "\tFinding site (attribute)\tBreast structure (body structure)\n",
      "\tAssociated morphology (attribute)\tMalignant neoplasm of primary, secondary, or uncertain origin (morphologic abnormality)\n"
     ]
    }
   ],
   "source": [
    "getConceptById('254837009')"
   ]
  },
  {
   "cell_type": "code",
   "execution_count": null,
   "metadata": {
    "collapsed": true
   },
   "outputs": [],
   "source": []
  }
 ],
 "metadata": {
  "kernelspec": {
   "display_name": "Python 3",
   "language": "python",
   "name": "python3"
  },
  "language_info": {
   "codemirror_mode": {
    "name": "ipython",
    "version": 3
   },
   "file_extension": ".py",
   "mimetype": "text/x-python",
   "name": "python",
   "nbconvert_exporter": "python",
   "pygments_lexer": "ipython3",
   "version": "3.5.1"
  }
 },
 "nbformat": 4,
 "nbformat_minor": 0
}
