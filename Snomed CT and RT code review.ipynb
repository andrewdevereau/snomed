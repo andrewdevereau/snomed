{
 "cells": [
  {
   "cell_type": "markdown",
   "metadata": {},
   "source": [
    "## This takes a spreadsheet of participants with cancer morphology and topography codes and looks up their names and semtags for QC of submitted data"
   ]
  },
  {
   "cell_type": "code",
   "execution_count": null,
   "metadata": {
    "collapsed": true
   },
   "outputs": [],
   "source": [
    "import pandas as pd\n",
    "import numpy as np"
   ]
  },
  {
   "cell_type": "code",
   "execution_count": null,
   "metadata": {
    "collapsed": true
   },
   "outputs": [],
   "source": [
    "location = 'C:/Users/Andrew Devereau/Downloads/SnomedCT_RF1Release_INT_20160731/Terminology/Content/' \n",
    "filename = 'sct1_Concepts_Core_INT_20160731.txt'   #this is the SNOMED CT file= international release 31/7/16"
   ]
  },
  {
   "cell_type": "code",
   "execution_count": null,
   "metadata": {
    "collapsed": false
   },
   "outputs": [],
   "source": [
    "concepts = pd.read_csv(location+filename, sep='\\t')"
   ]
  },
  {
   "cell_type": "code",
   "execution_count": null,
   "metadata": {
    "collapsed": false
   },
   "outputs": [],
   "source": [
    "concepts.head()"
   ]
  },
  {
   "cell_type": "code",
   "execution_count": null,
   "metadata": {
    "collapsed": false
   },
   "outputs": [],
   "source": [
    "def lookup(ID):   #find a SNOMED definition\n",
    "    try:\n",
    "        IDint = int(str(ID))   #if the ID is a integer it is probably a snomed CT code. if not it will create an exception 8\n",
    "        try:\n",
    "            result = concepts[concepts['CONCEPTID'] == IDint]['FULLYSPECIFIEDNAME'].values[0]\n",
    "            return (ID, result, result[result.index(\"(\")+1: result.index(\")\")])\n",
    "        except:\n",
    "            return (ID + ' not found')\n",
    "    except:        #if it is not an integer it is probably a snomed RT code (starts with a letter)\n",
    "        try:\n",
    "            ID2 = ID[0] + '-' + ID[1:]    #if snomed RT - add a dash after the first letter\n",
    "            result = concepts[concepts['SNOMEDID'] == ID2]['FULLYSPECIFIEDNAME'].values[0]  #look up in the concepts frame\n",
    "            return (ID2, result, result[result.index(\"(\")+1: result.index(\")\")])\n",
    "        except:\n",
    "            return (ID + ' not found')  #use the original ID for the 'not found' message to avoid type errors"
   ]
  },
  {
   "cell_type": "code",
   "execution_count": null,
   "metadata": {
    "collapsed": false
   },
   "outputs": [],
   "source": [
    "concepts[concepts['SNOMEDID'] == 'M-81403']"
   ]
  },
  {
   "cell_type": "code",
   "execution_count": null,
   "metadata": {
    "collapsed": false
   },
   "outputs": [],
   "source": [
    "concepts[concepts['SNOMEDID'].str.contains('X')]"
   ]
  },
  {
   "cell_type": "code",
   "execution_count": null,
   "metadata": {
    "collapsed": false
   },
   "outputs": [],
   "source": [
    "s = concepts[concepts['CONCEPTID'] == 28899001]['FULLYSPECIFIEDNAME'].values[0]\n",
    "print (s, s[s.index(\"(\")+1: s.index(\")\")])"
   ]
  },
  {
   "cell_type": "code",
   "execution_count": null,
   "metadata": {
    "collapsed": false
   },
   "outputs": [],
   "source": [
    "concepts[concepts['SNOMEDID'] == 'M-85002']['FULLYSPECIFIEDNAME'].values[0]"
   ]
  },
  {
   "cell_type": "code",
   "execution_count": null,
   "metadata": {
    "collapsed": true
   },
   "outputs": [],
   "source": [
    "location = 'C:/Users/Andrew Devereau/Documents/GeL/secondary data/Data applications/HES return October 2016/'\n",
    "filename = 'Codes.xlsx'"
   ]
  },
  {
   "cell_type": "code",
   "execution_count": null,
   "metadata": {
    "collapsed": true
   },
   "outputs": [],
   "source": [
    "codes = pd.read_excel(location+filename)   #get the table of morph and terminology codes"
   ]
  },
  {
   "cell_type": "code",
   "execution_count": null,
   "metadata": {
    "collapsed": false
   },
   "outputs": [],
   "source": [
    "for column in codes.columns.values[4:]:   #get each column after the first 4 - these are the codes - and look up codes\n",
    "    codes[column]  = codes[column].dropna().apply(lookup)  #replace each code with a lookup result"
   ]
  },
  {
   "cell_type": "code",
   "execution_count": null,
   "metadata": {
    "collapsed": false
   },
   "outputs": [],
   "source": [
    "codes.to_excel('codes_reviewed.xlsx')   #save a new version of the code spreadsheet"
   ]
  },
  {
   "cell_type": "code",
   "execution_count": null,
   "metadata": {
    "collapsed": true
   },
   "outputs": [],
   "source": []
  }
 ],
 "metadata": {
  "kernelspec": {
   "display_name": "Python 3",
   "language": "python",
   "name": "python3"
  },
  "language_info": {
   "codemirror_mode": {
    "name": "ipython",
    "version": 3
   },
   "file_extension": ".py",
   "mimetype": "text/x-python",
   "name": "python",
   "nbconvert_exporter": "python",
   "pygments_lexer": "ipython3",
   "version": "3.5.1"
  }
 },
 "nbformat": 4,
 "nbformat_minor": 0
}
