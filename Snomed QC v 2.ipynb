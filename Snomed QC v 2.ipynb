{
 "cells": [
  {
   "cell_type": "markdown",
   "metadata": {},
   "source": [
    "## Take the morphology and topography codes and determine text match scores to snomed code names"
   ]
  },
  {
   "cell_type": "code",
   "execution_count": null,
   "metadata": {
    "collapsed": false
   },
   "outputs": [],
   "source": [
    "import pandas as pd\n",
    "import numpy as np\n",
    "from fuzzywuzzy import fuzz\n",
    "from openpyxl import load_workbook"
   ]
  },
  {
   "cell_type": "code",
   "execution_count": null,
   "metadata": {
    "collapsed": true
   },
   "outputs": [],
   "source": [
    "location = 'C:/Users/Andrew Devereau/Downloads/SnomedCT_RF1Release_INT_20160731/Terminology/Content/' \n",
    "filename = 'sct1_Concepts_Core_INT_20160731.txt'   #this is the SNOMED CT file= international release 31/7/16\n",
    "concepts = pd.read_csv(location+filename, sep='\\t')  #load the snomed concepts"
   ]
  },
  {
   "cell_type": "code",
   "execution_count": null,
   "metadata": {
    "collapsed": false
   },
   "outputs": [],
   "source": [
    "filename = 'sct1_Descriptions_en_INT_20160731.txt'\n",
    "descriptions = pd.read_csv(location+filename, sep='\\t')  #load the snomed descriptions - these include synonyms"
   ]
  },
  {
   "cell_type": "code",
   "execution_count": null,
   "metadata": {
    "collapsed": false
   },
   "outputs": [],
   "source": [
    "filename = 'sct1_Relationships_Core_INT_20160731.txt'\n",
    "relationships = pd.read_csv(location+filename, sep='\\t')  #load the snomed relationships - these include is-a links"
   ]
  },
  {
   "cell_type": "code",
   "execution_count": null,
   "metadata": {
    "collapsed": false
   },
   "outputs": [],
   "source": [
    "def fuzzyMatch (str1, str2):   #this returns a fuzzy match score on two strings using the token set method\n",
    "    return fuzz.token_set_ratio(str1.replace('_', ' '), str2.replace('_', ' '))  #disease subtypes have _ instead of spaces"
   ]
  },
  {
   "cell_type": "code",
   "execution_count": null,
   "metadata": {
    "collapsed": true
   },
   "outputs": [],
   "source": [
    "def splitMatch (target, sentence):  #splits up a sentence into words and finds the best fuzzy match of any word to the target\n",
    "    words = str.split(sentence)\n",
    "    result = []\n",
    "    for w in words:\n",
    "        result.append((fuzzyMatch(target, w), w))  #add each result as a tuple of (target word, fuzzy score) to a list\n",
    "    return max(result)[0]  #find the maximum score and return only that one"
   ]
  },
  {
   "cell_type": "code",
   "execution_count": null,
   "metadata": {
    "collapsed": false
   },
   "outputs": [],
   "source": [
    "def synMatch (target, ID): #get synonyms for a snomed ID and get the best match of any synonym to the target\n",
    "    synonyms = getTerms(str(ID))\n",
    "    result = []\n",
    "    for term in synonyms:   #aggregate all synonyms into a single list\n",
    "        result.append((fuzzyMatch(target, term), term))  #get match scores for each term\n",
    "    return max(result)[0]  #return the highest score"
   ]
  },
  {
   "cell_type": "code",
   "execution_count": null,
   "metadata": {
    "collapsed": true
   },
   "outputs": [],
   "source": [
    "def getParents(ID): #get parent 'is-a' terms from a snomed CT id\n",
    "    try:\n",
    "        try:\n",
    "            term = int(ID)   #if the term is a CT term it is an INT - if not an excpetion is thrown. Relationship 116680003 is 'is-a'\n",
    "            result = relationships[(relationships['CONCEPTID1'] == ID) & (relationships['RELATIONSHIPTYPE'] == 116680003)]['CONCEPTID2'].values\n",
    "        except:   #if it is an RT term - ie not an INT - convert from RT to CT before getting parents as only the concept table uses RT terms\n",
    "            result = relationships[(relationships['CONCEPTID1'] == RT2CT(ID)) & (relationships['RELATIONSHIPTYPE'] == 116680003)]['CONCEPTID2'].values\n",
    "        terms = []\n",
    "        for term in result:\n",
    "            terms += getTerms(term)   #get all synonyms for all parent terms and put them in one list\n",
    "        return terms\n",
    "    except:\n",
    "        return 'not found'"
   ]
  },
  {
   "cell_type": "code",
   "execution_count": null,
   "metadata": {
    "collapsed": true
   },
   "outputs": [],
   "source": [
    "def BTMatch(target, ID): #get immediate parent terms for a snomed CT term and get the best match to the target\n",
    "    terms = getParents(ID)  #this is all the synonyms for all parent terms\n",
    "    result = []\n",
    "    for term in terms:\n",
    "        result.append((fuzzyMatch(target, term), term))   #get fuzzy matches for each synonym\n",
    "    return max(result)[0]  #return only the highest score"
   ]
  },
  {
   "cell_type": "code",
   "execution_count": null,
   "metadata": {
    "collapsed": false
   },
   "outputs": [],
   "source": [
    "def lookup(ID):   #find a fully specified name for an ID using the SNOMED concept frame\n",
    "    if type(ID) == np.float64:   #some CT codes are converted to type float64 on loading - convert to int\n",
    "        ID = ID.astype(int)\n",
    "    try:\n",
    "        IDint = int(str(ID))   #if the ID is a integer it is probably a snomed CT code. if not it will throw an exception\n",
    "        try:\n",
    "            result = concepts[concepts['CONCEPTID'] == IDint]['FULLYSPECIFIEDNAME'].values[0]\n",
    "            return (str(ID) + '_' + result)  #return the found name plus original ID\n",
    "        except:\n",
    "            return (str(ID) + '_not found')  #ID not found\n",
    "    except:        #if it is not an integer it is probably a snomed RT code (starts with a letter)\n",
    "        try:\n",
    "            ID2 = ID[0] + '-' + ID[1:]    #if snomed RT - add a dash after the first letter\n",
    "            result = concepts[concepts['SNOMEDID'] == ID2]['FULLYSPECIFIEDNAME'].values[0]  #look up in the concepts frame\n",
    "            return (ID2 + '_' + result)\n",
    "        except:\n",
    "            return (ID + '_not found')  #use the original ID for the 'not found' message to avoid type errors"
   ]
  },
  {
   "cell_type": "code",
   "execution_count": null,
   "metadata": {
    "collapsed": true
   },
   "outputs": [],
   "source": [
    "def annotateMorph(codes, col): #this looks up snomed codes in column col of a dataframe to give snomed names and a match score against the disease subtype\n",
    "    try:\n",
    "        codes['result'] = codes[col].dropna().apply(lookup)   #lookup the snomed codes for non-null rows and add to a new column called result\n",
    "        codes['term'], codes['fsn'] = codes['result'].dropna().str.split('_').str  #split the results around _ and add to new column 'term'\n",
    "        codes['semtag'] = codes['fsn'].dropna().str.extract('.*\\((.*)\\).*', expand=False)  #extract the semtag from brackets in fsn and add to column 'semtag'\n",
    "        codes['Disease subtype match'] = codes.dropna().apply(lambda x: fuzzyMatch(x['Disease Subtype Id'], x['fsn']), axis=1) #add a new column with the match of the whole fsn to disease subtype\n",
    "        codes['Disease subtype match words'] = codes.dropna().apply(lambda x: splitMatch(x['Disease Subtype Id'], x['fsn']), axis=1) #add column with match to words in the fsn\n",
    "        codes['Synonym subtype match'] = codes.dropna().apply(lambda x: synMatch(x['Disease Subtype Id'], x['term']), axis=1) #add a new column with match to synonyms of the fsn\n",
    "        codes.drop('result', axis=1, inplace=True)   #remove the result column\n",
    "        return codes\n",
    "    except:\n",
    "        return "
   ]
  },
  {
   "cell_type": "code",
   "execution_count": null,
   "metadata": {
    "collapsed": true
   },
   "outputs": [],
   "source": [
    "def annotateTop(codes, col): #this looks up snomed codes in column col of a dataframe to give snomed names and a match score against the disease type\n",
    "    try:\n",
    "        codes['result'] = codes[col].dropna().apply(lookup)   #lookup the snomed codes for non-null rows, add a new column 'result'\n",
    "        codes['term'], codes['fsn'] = codes['result'].dropna().str.split('_').str  #split the results around _, add to new column 'term'\n",
    "        codes['semtag'] = codes['fsn'].dropna().str.extract('.*\\((.*)\\).*', expand=False)  #extract the semtag from brackets in fsn, add to new column 'semtag'\n",
    "        codes['Disease match'] = codes.dropna().apply(lambda x: fuzzyMatch(x['Disease Type Id'], x['fsn']), axis=1)  #get fuzzy match of full fsn and disease name, add to new column\n",
    "        codes['Disease match words'] = codes.dropna().apply(lambda x: splitMatch(x['Disease Type Id'], x['fsn']), axis=1) #get match to words in fsn, add to new column\n",
    "        codes['Synonym disease match'] = codes.dropna().apply(lambda x: synMatch(x['Disease Type Id'], x['term']), axis=1)  #get match to synonyms of the fsn, add new column\n",
    "        codes['Parent term match'] = codes.dropna().apply(lambda x: BTMatch(x['Disease Type Id'], x['term']), axis=1) #get match to synonyms of the parent terms, add new column\n",
    "        codes.drop('result', axis=1, inplace=True)   #remove the result column\n",
    "        return codes\n",
    "    except:\n",
    "        return "
   ]
  },
  {
   "cell_type": "code",
   "execution_count": null,
   "metadata": {
    "collapsed": true
   },
   "outputs": [],
   "source": [
    "def getTerms(ID): #get synonyms given a snomed ID\n",
    "    try:\n",
    "        term = int(ID)  #if the ID is an integer it is a CT term\n",
    "        return list(descriptions[descriptions['CONCEPTID'] == term]['TERM'])  #find the concept in the description table which includes synonyms\n",
    "    except:     #if it is not a integer it is an RT term\n",
    "        return list(descriptions[descriptions['CONCEPTID'] == RT2CT(ID)]['TERM'])"
   ]
  },
  {
   "cell_type": "code",
   "execution_count": null,
   "metadata": {
    "collapsed": true
   },
   "outputs": [],
   "source": [
    "def RT2CT (RTID): #convert a snomed RT ID to a snomed CT ID\n",
    "    return concepts[concepts['SNOMEDID'] == RTID]['CONCEPTID'].values[0] #SNOMEDID = RT term, CONCEPTID = CT term"
   ]
  },
  {
   "cell_type": "code",
   "execution_count": null,
   "metadata": {
    "collapsed": true
   },
   "outputs": [],
   "source": [
    "location = 'C:/Users/Andrew Devereau/Documents/GeL/secondary data/Data applications/HES return October 2016/'\n",
    "filename = 'ICD RT CT codes 15Nov2016v2.xlsx'   #get the excel file with the snomed codes"
   ]
  },
  {
   "cell_type": "code",
   "execution_count": null,
   "metadata": {
    "collapsed": true
   },
   "outputs": [],
   "source": [
    "xl = pd.ExcelFile(location+filename)   #open the excel file"
   ]
  },
  {
   "cell_type": "code",
   "execution_count": null,
   "metadata": {
    "collapsed": false,
    "scrolled": true
   },
   "outputs": [],
   "source": [
    "sheets = xl.sheet_names   #get the names of all sheets in the workbook\n",
    "frameList = []\n",
    "for sheetNo in range(2,14):  #only analyse the 12 sheets with morph and topo data\n",
    "    print (sheets[sheetNo])\n",
    "    frame = xl.parse(sheets[sheetNo])   #make a dataframe from each sheet\n",
    "    frame.name = sheets[sheetNo]  #name the dataframe according to the sheet name\n",
    "    frameList.append(frame)   #add each frame to the list of frames"
   ]
  },
  {
   "cell_type": "code",
   "execution_count": null,
   "metadata": {
    "collapsed": false
   },
   "outputs": [],
   "source": [
    "for sheet in frameList:\n",
    "    if sheet.name[2] == 'M':   #if the middle letter is M this is morphology data - use the morph annotation\n",
    "        sheet = annotateMorph(sheet, sheet.columns.values[-1])\n",
    "    else:\n",
    "        sheet = annotateTop(sheet, sheet.columns.values[-1])    #otherwise it is a topography sheet - use the topography annotation"
   ]
  },
  {
   "cell_type": "code",
   "execution_count": null,
   "metadata": {
    "collapsed": true
   },
   "outputs": [],
   "source": [
    "writer = pd.ExcelWriter('ICD RT CT codes 15Nov2016 v 2 annotated.xlsx', engine='xlsxwriter')"
   ]
  },
  {
   "cell_type": "code",
   "execution_count": null,
   "metadata": {
    "collapsed": false
   },
   "outputs": [],
   "source": [
    "for sheet in frameList:\n",
    "    sheet.to_excel(writer, index=False, sheet_name=sheet.name)\n",
    "writer.save()"
   ]
  },
  {
   "cell_type": "code",
   "execution_count": null,
   "metadata": {
    "collapsed": true
   },
   "outputs": [],
   "source": []
  }
 ],
 "metadata": {
  "kernelspec": {
   "display_name": "Python 3",
   "language": "python",
   "name": "python3"
  },
  "language_info": {
   "codemirror_mode": {
    "name": "ipython",
    "version": 3
   },
   "file_extension": ".py",
   "mimetype": "text/x-python",
   "name": "python",
   "nbconvert_exporter": "python",
   "pygments_lexer": "ipython3",
   "version": "3.5.1"
  }
 },
 "nbformat": 4,
 "nbformat_minor": 0
}
