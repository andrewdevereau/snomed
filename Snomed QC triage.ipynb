{
 "cells": [
  {
   "cell_type": "markdown",
   "metadata": {},
   "source": [
    "## This "
   ]
  },
  {
   "cell_type": "code",
   "execution_count": 1,
   "metadata": {
    "collapsed": false
   },
   "outputs": [],
   "source": [
    "import pandas as pd\n",
    "import numpy as np\n"
   ]
  },
  {
   "cell_type": "code",
   "execution_count": 2,
   "metadata": {
    "collapsed": true
   },
   "outputs": [],
   "source": [
    "def triage(resultList, sheetType): #analyse a row of the frame and return pass, review or fail, SheetType = morphology or topography (M or T)\n",
    "    try:\n",
    "        if resultList.get('fsn') == 'not found':  #this is the fully specified name column, = not found if snomed lookup failed\n",
    "            return 'fail'\n",
    "        if sheetType == 'M':  #for morph data \n",
    "            if (pd.isnull(resultList['Disease Type Id'])) or (pd.isnull(resultList['Disease Subtype Id'])):  #if there is no disease or subdisease code\n",
    "                return 'review'\n",
    "            elif max([resultList.get('Disease subtype match'), resultList.get('Disease subtype match words'), resultList.get('Synonym subtype match')]) < 50:   #these are the match scores: fail if highest <50, review if between 50-99, pass if = 100\n",
    "                return 'fail'\n",
    "            elif max([resultList.get('Disease subtype match'), resultList.get('Disease subtype match words'), resultList.get('Synonym subtype match')]) < 99:\n",
    "                return 'review'\n",
    "            elif max([resultList.get('Disease subtype match'), resultList.get('Disease subtype match words'), resultList.get('Synonym subtype match')]) == 100:\n",
    "                return 'pass'\n",
    "            elif resultList.get('semtag') != 'morphologic abnormality':\n",
    "                return 'review'\n",
    "        elif sheetType == 'T':  #for topo data\n",
    "            if (pd.isnull(resultList['Disease Type Id'])):  #if there is no disease code\n",
    "                return 'review'\n",
    "            elif max([resultList.get('Disease match'), resultList.get('Disease match words'), resultList.get('Synonym disease match'), resultList.get('Parent term match')]) < 50:   #these are the match scores: fail if highest <50, review if between 50-99, pass if = 100\n",
    "                return 'fail'\n",
    "            elif max([resultList.get('Disease match'), resultList.get('Disease match words'), resultList.get('Synonym disease match'), resultList.get('Parent term match')]) < 99:\n",
    "                return 'review'\n",
    "            elif max([resultList.get('Disease match'), resultList.get('Disease match words'), resultList.get('Synonym disease match'), resultList.get('Parent term match')]) == 100:\n",
    "                return 'pass'\n",
    "            elif resultList.get('semtag') != 'body structure':\n",
    "                return 'review'\n",
    "    except:\n",
    "        return 'fail'   #fail if values do not compute"
   ]
  },
  {
   "cell_type": "code",
   "execution_count": 10,
   "metadata": {
    "collapsed": true
   },
   "outputs": [],
   "source": [
    "filename = 'ICD RT CT codes 15Nov2016 v 2 annotated.xlsx'   #get the excel file annotated with scores"
   ]
  },
  {
   "cell_type": "code",
   "execution_count": 11,
   "metadata": {
    "collapsed": false
   },
   "outputs": [],
   "source": [
    "xl = pd.ExcelFile(filename)   #open the excel file"
   ]
  },
  {
   "cell_type": "code",
   "execution_count": 12,
   "metadata": {
    "collapsed": false,
    "scrolled": true
   },
   "outputs": [
    {
     "name": "stdout",
     "output_type": "stream",
     "text": [
      "S-M-ICD\n",
      "S-M-RT\n",
      "S-M-CT\n",
      "S-T-ICD\n",
      "S-T-RT\n",
      "S-T-CT\n",
      "P-M-ICD\n",
      "P-M-RT\n",
      "P-M-CT\n",
      "P-T-ICD\n",
      "P-T-RT\n",
      "P-T-CT\n"
     ]
    }
   ],
   "source": [
    "sheets = xl.sheet_names   #get the names of all sheets in the workbook\n",
    "oldFrameList = []\n",
    "for sheet in sheets:  #only analyse the 12 sheets with morph and topo data\n",
    "    print (sheet)\n",
    "    frame = xl.parse(sheet)   #make a dataframe from each sheet\n",
    "    frame.name = sheet  #name the dataframe according to the sheet name\n",
    "    oldFrameList.append(frame)   #add each frame to the list of frames"
   ]
  },
  {
   "cell_type": "code",
   "execution_count": 13,
   "metadata": {
    "collapsed": false
   },
   "outputs": [],
   "source": [
    "frameList = []\n",
    "for frame in oldFrameList:\n",
    "    oldName = frame.name\n",
    "    if len(frame.columns.values) > 5:\n",
    "        frame = frame[frame.term.notnull()].copy()\n",
    "        frame.name = oldName\n",
    "        frameList.append(frame)"
   ]
  },
  {
   "cell_type": "code",
   "execution_count": 14,
   "metadata": {
    "collapsed": false
   },
   "outputs": [],
   "source": [
    "for frame in frameList:\n",
    "    if frame.name[2] == 'M':   #if the middle letter is M this is morphology data - use the morph triage\n",
    "        frame['validation'] = frame.apply(triage, args = ('M',), axis=1)\n",
    "    else:   #else use the topography triage\n",
    "        frame['validation'] = frame.apply(triage, args = ('T',), axis=1)\n",
    "         "
   ]
  },
  {
   "cell_type": "code",
   "execution_count": 15,
   "metadata": {
    "collapsed": true
   },
   "outputs": [],
   "source": [
    "writer = pd.ExcelWriter('ICD RT CT codes 15Nov2016 v 2 reviewed.xlsx', engine='xlsxwriter')"
   ]
  },
  {
   "cell_type": "code",
   "execution_count": 16,
   "metadata": {
    "collapsed": false
   },
   "outputs": [],
   "source": [
    "for sheet in frameList:\n",
    "    sheet.to_excel(writer, index=False, sheet_name=sheet.name)\n",
    "writer.save()"
   ]
  },
  {
   "cell_type": "code",
   "execution_count": null,
   "metadata": {
    "collapsed": true
   },
   "outputs": [],
   "source": []
  }
 ],
 "metadata": {
  "kernelspec": {
   "display_name": "Python 3",
   "language": "python",
   "name": "python3"
  },
  "language_info": {
   "codemirror_mode": {
    "name": "ipython",
    "version": 3
   },
   "file_extension": ".py",
   "mimetype": "text/x-python",
   "name": "python",
   "nbconvert_exporter": "python",
   "pygments_lexer": "ipython3",
   "version": "3.5.1"
  }
 },
 "nbformat": 4,
 "nbformat_minor": 0
}
